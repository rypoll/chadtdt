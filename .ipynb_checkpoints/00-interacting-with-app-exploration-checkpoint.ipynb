{
 "cells": [
  {
   "cell_type": "code",
   "execution_count": 5,
   "id": "1ebe90d4",
   "metadata": {},
   "outputs": [],
   "source": [
    "import numpy as np\n",
    "import pandas as pd\n",
    "import json\n",
    "from googleapiclient.discovery import build\n",
    "from google.oauth2.credentials import Credentials\n",
    "import base64\n",
    "from google_auth_oauthlib import flow\n",
    "import openai\n",
    "import re\n",
    "from selenium import webdriver\n",
    "from selenium.webdriver.common.by import By\n",
    "from selenium import webdriver\n",
    "from selenium.webdriver.common.keys import Keys\n",
    "\n",
    "from selenium import webdriver\n",
    "from selenium.webdriver.common.by import By\n",
    "from selenium.webdriver.common.keys import Keys\n",
    "from selenium.webdriver.support.ui import WebDriverWait\n",
    "from selenium.webdriver.support import expected_conditions as EC\n",
    "import pandas as pd\n",
    "import time  # Import the time module\n",
    "from urllib.parse import urlparse\n",
    "from selenium import webdriver\n",
    "from selenium.webdriver.common.by import By\n",
    "from selenium.webdriver.support.ui import WebDriverWait\n",
    "from selenium.webdriver.support import expected_conditions as EC\n",
    "\n",
    "import pandas as pd\n",
    "import time\n",
    "import ast\n",
    "import os\n",
    "import gspread\n",
    "from gspread_dataframe import set_with_dataframe\n",
    "import selenium\n",
    "import pandas as pd\n",
    "from datetime import datetime, timedelta\n",
    "import ast\n",
    "\n",
    "from selenium.common.exceptions import NoSuchElementException, WebDriverException\n",
    "from datetime import timedelta, datetime\n",
    "\n",
    "\n",
    "from google.cloud import storage\n",
    "from git import Repo, Git\n",
    "import random\n"
   ]
  },
  {
   "cell_type": "markdown",
   "id": "c7c76d90",
   "metadata": {},
   "source": [
    "## Manually Log in to App \n",
    "\n",
    "* Auto log in can change across regions and be tedious - can add this in the future"
   ]
  },
  {
   "cell_type": "code",
   "execution_count": 6,
   "id": "0f4a0f24",
   "metadata": {},
   "outputs": [],
   "source": [
    "chromedriver_path = r'C:\\Users\\T430\\Downloads\\chromedriver-win64\\chromedriver-win64\\chromedriver.exe'\n",
    "\n",
    "extension_path2 = r'C:\\Users\\T430\\Downloads\\uBlock-Origin.crx'\n",
    "\n",
    "chrome_options = webdriver.ChromeOptions()\n",
    "chrome_options.add_extension(extension_path2)\n",
    "chrome_options.add_argument('--start-maximized') "
   ]
  },
  {
   "cell_type": "code",
   "execution_count": 15,
   "id": "f105fdac",
   "metadata": {},
   "outputs": [
    {
     "name": "stdout",
     "output_type": "stream",
     "text": [
      "My Chat Site loaded\n",
      "Waiting for user to log in.\n",
      "Waiting for div to appear.\n",
      "Locating the third li element.\n",
      "Clicking the third li element.\n"
     ]
    },
    {
     "ename": "ElementClickInterceptedException",
     "evalue": "Message: element click intercepted: Element <li class=\"P(8px)\" style=\"width: 33.33%;\">...</li> is not clickable at point (307, 225). Other element would receive the click: <div class=\"CenterAlign H(100%) Fxd(c)\">...</div>\n  (Session info: chrome=116.0.5845.187)\nStacktrace:\nBacktrace:\n\tGetHandleVerifier [0x00007FF7B8B33E62+57250]\n\t(No symbol) [0x00007FF7B8AABC02]\n\t(No symbol) [0x00007FF7B897E0BB]\n\t(No symbol) [0x00007FF7B89BD080]\n\t(No symbol) [0x00007FF7B89BB6FD]\n\t(No symbol) [0x00007FF7B89B96E5]\n\t(No symbol) [0x00007FF7B89B88F5]\n\t(No symbol) [0x00007FF7B89AEC1F]\n\t(No symbol) [0x00007FF7B89D67AA]\n\t(No symbol) [0x00007FF7B89AE536]\n\t(No symbol) [0x00007FF7B89D69C0]\n\t(No symbol) [0x00007FF7B89EE312]\n\t(No symbol) [0x00007FF7B89D6583]\n\t(No symbol) [0x00007FF7B89ACC71]\n\t(No symbol) [0x00007FF7B89ADE54]\n\tGetHandleVerifier [0x00007FF7B8DE4CF2+2879026]\n\tGetHandleVerifier [0x00007FF7B8E36F30+3215472]\n\tGetHandleVerifier [0x00007FF7B8E2FD4F+3186319]\n\tGetHandleVerifier [0x00007FF7B8BC5505+652869]\n\t(No symbol) [0x00007FF7B8AB7518]\n\t(No symbol) [0x00007FF7B8AB35F4]\n\t(No symbol) [0x00007FF7B8AB36EC]\n\t(No symbol) [0x00007FF7B8AA38E3]\n\tBaseThreadInitThunk [0x00007FFA563E7C24+20]\n\tRtlUserThreadStart [0x00007FFA5770D4D1+33]\n",
     "output_type": "error",
     "traceback": [
      "\u001b[1;31m---------------------------------------------------------------------------\u001b[0m",
      "\u001b[1;31mElementClickInterceptedException\u001b[0m          Traceback (most recent call last)",
      "Cell \u001b[1;32mIn[15], line 29\u001b[0m\n\u001b[0;32m     27\u001b[0m \u001b[38;5;66;03m# Click the third li element\u001b[39;00m\n\u001b[0;32m     28\u001b[0m \u001b[38;5;28mprint\u001b[39m(\u001b[38;5;124m\"\u001b[39m\u001b[38;5;124mClicking the third li element.\u001b[39m\u001b[38;5;124m\"\u001b[39m)\n\u001b[1;32m---> 29\u001b[0m \u001b[43mli_element\u001b[49m\u001b[38;5;241;43m.\u001b[39;49m\u001b[43mclick\u001b[49m\u001b[43m(\u001b[49m\u001b[43m)\u001b[49m\n\u001b[0;32m     31\u001b[0m \u001b[38;5;28mprint\u001b[39m(\u001b[38;5;124m\"\u001b[39m\u001b[38;5;124mOperation complete.\u001b[39m\u001b[38;5;124m\"\u001b[39m)\n",
      "File \u001b[1;32m~\\anaconda3\\envs\\llm\\Lib\\site-packages\\selenium\\webdriver\\remote\\webelement.py:88\u001b[0m, in \u001b[0;36mWebElement.click\u001b[1;34m(self)\u001b[0m\n\u001b[0;32m     86\u001b[0m \u001b[38;5;28;01mdef\u001b[39;00m \u001b[38;5;21mclick\u001b[39m(\u001b[38;5;28mself\u001b[39m) \u001b[38;5;241m-\u001b[39m\u001b[38;5;241m>\u001b[39m \u001b[38;5;28;01mNone\u001b[39;00m:\n\u001b[0;32m     87\u001b[0m \u001b[38;5;250m    \u001b[39m\u001b[38;5;124;03m\"\"\"Clicks the element.\"\"\"\u001b[39;00m\n\u001b[1;32m---> 88\u001b[0m     \u001b[38;5;28;43mself\u001b[39;49m\u001b[38;5;241;43m.\u001b[39;49m\u001b[43m_execute\u001b[49m\u001b[43m(\u001b[49m\u001b[43mCommand\u001b[49m\u001b[38;5;241;43m.\u001b[39;49m\u001b[43mCLICK_ELEMENT\u001b[49m\u001b[43m)\u001b[49m\n",
      "File \u001b[1;32m~\\anaconda3\\envs\\llm\\Lib\\site-packages\\selenium\\webdriver\\remote\\webelement.py:396\u001b[0m, in \u001b[0;36mWebElement._execute\u001b[1;34m(self, command, params)\u001b[0m\n\u001b[0;32m    394\u001b[0m     params \u001b[38;5;241m=\u001b[39m {}\n\u001b[0;32m    395\u001b[0m params[\u001b[38;5;124m'\u001b[39m\u001b[38;5;124mid\u001b[39m\u001b[38;5;124m'\u001b[39m] \u001b[38;5;241m=\u001b[39m \u001b[38;5;28mself\u001b[39m\u001b[38;5;241m.\u001b[39m_id\n\u001b[1;32m--> 396\u001b[0m \u001b[38;5;28;01mreturn\u001b[39;00m \u001b[38;5;28;43mself\u001b[39;49m\u001b[38;5;241;43m.\u001b[39;49m\u001b[43m_parent\u001b[49m\u001b[38;5;241;43m.\u001b[39;49m\u001b[43mexecute\u001b[49m\u001b[43m(\u001b[49m\u001b[43mcommand\u001b[49m\u001b[43m,\u001b[49m\u001b[43m \u001b[49m\u001b[43mparams\u001b[49m\u001b[43m)\u001b[49m\n",
      "File \u001b[1;32m~\\anaconda3\\envs\\llm\\Lib\\site-packages\\selenium\\webdriver\\remote\\webdriver.py:428\u001b[0m, in \u001b[0;36mWebDriver.execute\u001b[1;34m(self, driver_command, params)\u001b[0m\n\u001b[0;32m    426\u001b[0m response \u001b[38;5;241m=\u001b[39m \u001b[38;5;28mself\u001b[39m\u001b[38;5;241m.\u001b[39mcommand_executor\u001b[38;5;241m.\u001b[39mexecute(driver_command, params)\n\u001b[0;32m    427\u001b[0m \u001b[38;5;28;01mif\u001b[39;00m response:\n\u001b[1;32m--> 428\u001b[0m     \u001b[38;5;28;43mself\u001b[39;49m\u001b[38;5;241;43m.\u001b[39;49m\u001b[43merror_handler\u001b[49m\u001b[38;5;241;43m.\u001b[39;49m\u001b[43mcheck_response\u001b[49m\u001b[43m(\u001b[49m\u001b[43mresponse\u001b[49m\u001b[43m)\u001b[49m\n\u001b[0;32m    429\u001b[0m     response[\u001b[38;5;124m'\u001b[39m\u001b[38;5;124mvalue\u001b[39m\u001b[38;5;124m'\u001b[39m] \u001b[38;5;241m=\u001b[39m \u001b[38;5;28mself\u001b[39m\u001b[38;5;241m.\u001b[39m_unwrap_value(\n\u001b[0;32m    430\u001b[0m         response\u001b[38;5;241m.\u001b[39mget(\u001b[38;5;124m'\u001b[39m\u001b[38;5;124mvalue\u001b[39m\u001b[38;5;124m'\u001b[39m, \u001b[38;5;28;01mNone\u001b[39;00m))\n\u001b[0;32m    431\u001b[0m     \u001b[38;5;28;01mreturn\u001b[39;00m response\n",
      "File \u001b[1;32m~\\anaconda3\\envs\\llm\\Lib\\site-packages\\selenium\\webdriver\\remote\\errorhandler.py:243\u001b[0m, in \u001b[0;36mErrorHandler.check_response\u001b[1;34m(self, response)\u001b[0m\n\u001b[0;32m    241\u001b[0m         alert_text \u001b[38;5;241m=\u001b[39m value[\u001b[38;5;124m'\u001b[39m\u001b[38;5;124malert\u001b[39m\u001b[38;5;124m'\u001b[39m]\u001b[38;5;241m.\u001b[39mget(\u001b[38;5;124m'\u001b[39m\u001b[38;5;124mtext\u001b[39m\u001b[38;5;124m'\u001b[39m)\n\u001b[0;32m    242\u001b[0m     \u001b[38;5;28;01mraise\u001b[39;00m exception_class(message, screen, stacktrace, alert_text)  \u001b[38;5;66;03m# type: ignore[call-arg]  # mypy is not smart enough here\u001b[39;00m\n\u001b[1;32m--> 243\u001b[0m \u001b[38;5;28;01mraise\u001b[39;00m exception_class(message, screen, stacktrace)\n",
      "\u001b[1;31mElementClickInterceptedException\u001b[0m: Message: element click intercepted: Element <li class=\"P(8px)\" style=\"width: 33.33%;\">...</li> is not clickable at point (307, 225). Other element would receive the click: <div class=\"CenterAlign H(100%) Fxd(c)\">...</div>\n  (Session info: chrome=116.0.5845.187)\nStacktrace:\nBacktrace:\n\tGetHandleVerifier [0x00007FF7B8B33E62+57250]\n\t(No symbol) [0x00007FF7B8AABC02]\n\t(No symbol) [0x00007FF7B897E0BB]\n\t(No symbol) [0x00007FF7B89BD080]\n\t(No symbol) [0x00007FF7B89BB6FD]\n\t(No symbol) [0x00007FF7B89B96E5]\n\t(No symbol) [0x00007FF7B89B88F5]\n\t(No symbol) [0x00007FF7B89AEC1F]\n\t(No symbol) [0x00007FF7B89D67AA]\n\t(No symbol) [0x00007FF7B89AE536]\n\t(No symbol) [0x00007FF7B89D69C0]\n\t(No symbol) [0x00007FF7B89EE312]\n\t(No symbol) [0x00007FF7B89D6583]\n\t(No symbol) [0x00007FF7B89ACC71]\n\t(No symbol) [0x00007FF7B89ADE54]\n\tGetHandleVerifier [0x00007FF7B8DE4CF2+2879026]\n\tGetHandleVerifier [0x00007FF7B8E36F30+3215472]\n\tGetHandleVerifier [0x00007FF7B8E2FD4F+3186319]\n\tGetHandleVerifier [0x00007FF7B8BC5505+652869]\n\t(No symbol) [0x00007FF7B8AB7518]\n\t(No symbol) [0x00007FF7B8AB35F4]\n\t(No symbol) [0x00007FF7B8AB36EC]\n\t(No symbol) [0x00007FF7B8AA38E3]\n\tBaseThreadInitThunk [0x00007FFA563E7C24+20]\n\tRtlUserThreadStart [0x00007FFA5770D4D1+33]\n"
     ]
    }
   ],
   "source": [
    "service = webdriver.chrome.service.Service(executable_path=chromedriver_path)\n",
    "service.start()\n",
    "\n",
    "driver = webdriver.Chrome(service=service, options=chrome_options)\n",
    "time.sleep(random.uniform(3, 6))\n",
    "driver.get('https://www.tinder.com/')\n",
    "print(\"My Chat Site loaded\")\n",
    "driver.execute_script(\"document.body.style.zoom='25%'\")\n",
    "# Wait for 2 seconds to allow the website to load\n",
    "time.sleep(2)\n",
    "wait = WebDriverWait(driver, 120) \n",
    "#element = wait.until(EC.presence_of_element_located((By.ID, 'q735246158')))\n",
    "\n",
    "print(\"Waiting for user to log in.\")\n",
    "time.sleep(60)  # 60 seconds, change it to the time you need\n",
    "\n",
    "# Wait for the \"Matches\" button to appear\n",
    "print(\"Waiting for 'Matches' button to appear.\")\n",
    "wait = WebDriverWait(driver, 30)\n",
    "matches_button = wait.until(EC.presence_of_element_located((By.ID, \"q-518764942\")))\n",
    "\n",
    "# Click the \"Matches\" button\n",
    "print(\"Clicking the 'Matches' button.\")\n",
    "matches_button.click()\n",
    "\n",
    "print(\"'Matches' button clicked.\")"
   ]
  },
  {
   "cell_type": "code",
   "execution_count": null,
   "id": "f852ec7d",
   "metadata": {},
   "outputs": [],
   "source": [
    "gwegwg = tU4mxt0vs@6sEaA"
   ]
  },
  {
   "cell_type": "markdown",
   "id": "55babb84",
   "metadata": {},
   "source": [
    "## There's two types at play\n",
    "* Messages\n",
    "* Matches\n"
   ]
  },
  {
   "cell_type": "markdown",
   "id": "aee05733",
   "metadata": {},
   "source": [
    "### Matches"
   ]
  }
 ],
 "metadata": {
  "kernelspec": {
   "display_name": "Python 3 (ipykernel)",
   "language": "python",
   "name": "python3"
  },
  "language_info": {
   "codemirror_mode": {
    "name": "ipython",
    "version": 3
   },
   "file_extension": ".py",
   "mimetype": "text/x-python",
   "name": "python",
   "nbconvert_exporter": "python",
   "pygments_lexer": "ipython3",
   "version": "3.11.4"
  }
 },
 "nbformat": 4,
 "nbformat_minor": 5
}
