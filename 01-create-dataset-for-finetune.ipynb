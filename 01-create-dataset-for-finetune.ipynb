{
 "cells": [
  {
   "cell_type": "code",
   "execution_count": 1,
   "id": "c84eab1d",
   "metadata": {},
   "outputs": [],
   "source": [
    "import pandas as pd"
   ]
  },
  {
   "cell_type": "code",
   "execution_count": 16,
   "id": "905d152a",
   "metadata": {},
   "outputs": [],
   "source": [
    "import pandas as pd\n",
    "\n",
    "# Initialize variables\n",
    "conv_past = \"\"\n",
    "rows = []\n",
    "\n",
    "# Read the file line by line\n",
    "with open(\"02-data/01-sample-conversations.txt\", \"r\") as f:\n",
    "    for line in f:\n",
    "        # Remove the newline character at the end of the line\n",
    "        line = line.strip()\n",
    "        \n",
    "        # If the line is empty, a new conversation is starting\n",
    "        if not line:\n",
    "            conv_past = \"\"\n",
    "            continue\n",
    "        \n",
    "        # Check if the line starts with \"A:\" or \"Alex:\"\n",
    "        if line.startswith(\"A:\") or line.startswith(\"Alex:\"):\n",
    "            # Remove \"A:\" or \"Alex:\" prefix\n",
    "            cleaned_line = line.split(\":\", 1)[1].strip()\n",
    "            \n",
    "            # Save the row to the list\n",
    "            rows.append([conv_past, cleaned_line])\n",
    "            \n",
    "            # Update conv_past to include this line (original line with \"A:\" or \"Alex:\")\n",
    "            conv_past = (conv_past + \" \\n \" + line) if conv_past else line\n",
    "        else:\n",
    "            # Update conv_past\n",
    "            conv_past = (conv_past + \" \\n \" + line) if conv_past else line\n",
    "\n",
    "# Create a DataFrame\n",
    "df = pd.DataFrame(rows, columns=[\"conv_past\", \"outputted_response\"])\n",
    "\n",
    "# Save DataFrame to CSV if needed\n",
    "# df.to_csv(\"output.csv\", index=False)\n"
   ]
  },
  {
   "cell_type": "code",
   "execution_count": 17,
   "id": "6d823035",
   "metadata": {},
   "outputs": [
    {
     "data": {
      "text/plain": [
       "\"G: That's nice, so what else can u tell me? Sometimes I forget to open this app so don't mind me if I take a while to reply \\n A: What would you like to know \\n G: I dunno, what u do for fun? Do u read? What sort of music u like...whatever u feel like sharing \\n A: I like travel, exericse, read, various kinky activities, the list goes on\""
      ]
     },
     "execution_count": 17,
     "metadata": {},
     "output_type": "execute_result"
    }
   ],
   "source": [
    "df['conv_past'].iloc[8]"
   ]
  },
  {
   "cell_type": "code",
   "execution_count": 18,
   "id": "e7d7472e",
   "metadata": {},
   "outputs": [
    {
     "data": {
      "text/html": [
       "<div>\n",
       "<style scoped>\n",
       "    .dataframe tbody tr th:only-of-type {\n",
       "        vertical-align: middle;\n",
       "    }\n",
       "\n",
       "    .dataframe tbody tr th {\n",
       "        vertical-align: top;\n",
       "    }\n",
       "\n",
       "    .dataframe thead th {\n",
       "        text-align: right;\n",
       "    }\n",
       "</style>\n",
       "<table border=\"1\" class=\"dataframe\">\n",
       "  <thead>\n",
       "    <tr style=\"text-align: right;\">\n",
       "      <th></th>\n",
       "      <th>conv_past</th>\n",
       "      <th>outputted_response</th>\n",
       "    </tr>\n",
       "  </thead>\n",
       "  <tbody>\n",
       "    <tr>\n",
       "      <th>0</th>\n",
       "      <td>*Girl had no bio*</td>\n",
       "      <td>Love your bio</td>\n",
       "    </tr>\n",
       "    <tr>\n",
       "      <th>1</th>\n",
       "      <td></td>\n",
       "      <td>Hey trouble</td>\n",
       "    </tr>\n",
       "    <tr>\n",
       "      <th>2</th>\n",
       "      <td>A: Hey trouble \\n G: Trouble!? You're the one ...</td>\n",
       "      <td>Yes, daddy's cooking up a storm</td>\n",
       "    </tr>\n",
       "    <tr>\n",
       "      <th>3</th>\n",
       "      <td>A: Hey trouble \\n G: Trouble!? You're the one ...</td>\n",
       "      <td>Ah she lives :)</td>\n",
       "    </tr>\n",
       "    <tr>\n",
       "      <th>4</th>\n",
       "      <td>A: Hey trouble \\n G: Trouble!? You're the one ...</td>\n",
       "      <td>I'm good. Just finished a big workout Loooking...</td>\n",
       "    </tr>\n",
       "    <tr>\n",
       "      <th>...</th>\n",
       "      <td>...</td>\n",
       "      <td>...</td>\n",
       "    </tr>\n",
       "    <tr>\n",
       "      <th>119</th>\n",
       "      <td>G: Hi</td>\n",
       "      <td>Ah I was waiting for you to message me</td>\n",
       "    </tr>\n",
       "    <tr>\n",
       "      <th>120</th>\n",
       "      <td>G: Hi \\n A: Ah I was waiting for you to messag...</td>\n",
       "      <td>Because we're each other's types</td>\n",
       "    </tr>\n",
       "    <tr>\n",
       "      <th>121</th>\n",
       "      <td>G: Hi \\n A: Ah I was waiting for you to messag...</td>\n",
       "      <td>Or not</td>\n",
       "    </tr>\n",
       "    <tr>\n",
       "      <th>122</th>\n",
       "      <td>G: What do you set your thermostat set at when...</td>\n",
       "      <td>69</td>\n",
       "    </tr>\n",
       "    <tr>\n",
       "      <th>123</th>\n",
       "      <td>G: What do you set your thermostat set at when...</td>\n",
       "      <td>Nope 69.9 on the dot</td>\n",
       "    </tr>\n",
       "  </tbody>\n",
       "</table>\n",
       "<p>124 rows × 2 columns</p>\n",
       "</div>"
      ],
      "text/plain": [
       "                                             conv_past  \\\n",
       "0                                    *Girl had no bio*   \n",
       "1                                                        \n",
       "2    A: Hey trouble \\n G: Trouble!? You're the one ...   \n",
       "3    A: Hey trouble \\n G: Trouble!? You're the one ...   \n",
       "4    A: Hey trouble \\n G: Trouble!? You're the one ...   \n",
       "..                                                 ...   \n",
       "119                                              G: Hi   \n",
       "120  G: Hi \\n A: Ah I was waiting for you to messag...   \n",
       "121  G: Hi \\n A: Ah I was waiting for you to messag...   \n",
       "122  G: What do you set your thermostat set at when...   \n",
       "123  G: What do you set your thermostat set at when...   \n",
       "\n",
       "                                    outputted_response  \n",
       "0                                        Love your bio  \n",
       "1                                          Hey trouble  \n",
       "2                      Yes, daddy's cooking up a storm  \n",
       "3                                      Ah she lives :)  \n",
       "4    I'm good. Just finished a big workout Loooking...  \n",
       "..                                                 ...  \n",
       "119             Ah I was waiting for you to message me  \n",
       "120                   Because we're each other's types  \n",
       "121                                             Or not  \n",
       "122                                                 69  \n",
       "123                               Nope 69.9 on the dot  \n",
       "\n",
       "[124 rows x 2 columns]"
      ]
     },
     "execution_count": 18,
     "metadata": {},
     "output_type": "execute_result"
    }
   ],
   "source": [
    "df"
   ]
  },
  {
   "cell_type": "code",
   "execution_count": 19,
   "id": "7120db77",
   "metadata": {},
   "outputs": [],
   "source": [
    "df.to_csv(\"02-data/02-sample-convs-for-finetune.csv\")"
   ]
  },
  {
   "cell_type": "code",
   "execution_count": null,
   "id": "d7cc4beb",
   "metadata": {},
   "outputs": [],
   "source": []
  }
 ],
 "metadata": {
  "kernelspec": {
   "display_name": "Python 3 (ipykernel)",
   "language": "python",
   "name": "python3"
  },
  "language_info": {
   "codemirror_mode": {
    "name": "ipython",
    "version": 3
   },
   "file_extension": ".py",
   "mimetype": "text/x-python",
   "name": "python",
   "nbconvert_exporter": "python",
   "pygments_lexer": "ipython3",
   "version": "3.11.4"
  }
 },
 "nbformat": 4,
 "nbformat_minor": 5
}
