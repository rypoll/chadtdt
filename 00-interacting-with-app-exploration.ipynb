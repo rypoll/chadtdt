{
 "cells": [
  {
   "cell_type": "code",
   "execution_count": 5,
   "id": "1ebe90d4",
   "metadata": {},
   "outputs": [],
   "source": [
    "import numpy as np\n",
    "import pandas as pd\n",
    "import json\n",
    "from googleapiclient.discovery import build\n",
    "from google.oauth2.credentials import Credentials\n",
    "import base64\n",
    "from google_auth_oauthlib import flow\n",
    "import openai\n",
    "import re\n",
    "from selenium import webdriver\n",
    "from selenium.webdriver.common.by import By\n",
    "from selenium import webdriver\n",
    "from selenium.webdriver.common.keys import Keys\n",
    "\n",
    "from selenium import webdriver\n",
    "from selenium.webdriver.common.by import By\n",
    "from selenium.webdriver.common.keys import Keys\n",
    "from selenium.webdriver.support.ui import WebDriverWait\n",
    "from selenium.webdriver.support import expected_conditions as EC\n",
    "import pandas as pd\n",
    "import time  # Import the time module\n",
    "from urllib.parse import urlparse\n",
    "from selenium import webdriver\n",
    "from selenium.webdriver.common.by import By\n",
    "from selenium.webdriver.support.ui import WebDriverWait\n",
    "from selenium.webdriver.support import expected_conditions as EC\n",
    "\n",
    "import pandas as pd\n",
    "import time\n",
    "import ast\n",
    "import os\n",
    "import gspread\n",
    "from gspread_dataframe import set_with_dataframe\n",
    "import selenium\n",
    "import pandas as pd\n",
    "from datetime import datetime, timedelta\n",
    "import ast\n",
    "\n",
    "from selenium.common.exceptions import NoSuchElementException, WebDriverException\n",
    "from datetime import timedelta, datetime\n",
    "\n",
    "\n",
    "from google.cloud import storage\n",
    "from git import Repo, Git\n",
    "import random\n"
   ]
  },
  {
   "cell_type": "markdown",
   "id": "c7c76d90",
   "metadata": {},
   "source": [
    "## Manually Log in to App \n",
    "\n",
    "* Auto log in can change across regions and be tedious - can add this in the future"
   ]
  },
  {
   "cell_type": "code",
   "execution_count": 6,
   "id": "0f4a0f24",
   "metadata": {},
   "outputs": [],
   "source": [
    "chromedriver_path = r'C:\\Users\\T430\\Downloads\\chromedriver-win64\\chromedriver-win64\\chromedriver.exe'\n",
    "\n",
    "extension_path2 = r'C:\\Users\\T430\\Downloads\\uBlock-Origin.crx'\n",
    "\n",
    "chrome_options = webdriver.ChromeOptions()\n",
    "chrome_options.add_extension(extension_path2)\n",
    "chrome_options.add_argument('--start-maximized') "
   ]
  },
  {
   "cell_type": "code",
   "execution_count": 17,
   "id": "f105fdac",
   "metadata": {},
   "outputs": [
    {
     "name": "stdout",
     "output_type": "stream",
     "text": [
      "My Chat Site loaded\n",
      "Waiting for user to log in.\n",
      "Waiting for 'Matches' button to appear.\n",
      "Clicking the 'Matches' button.\n",
      "Failed to click 'Matches' button. Trying JavaScript click.\n",
      "'Matches' button clicked using JavaScript.\n"
     ]
    }
   ],
   "source": [
    "service = webdriver.chrome.service.Service(executable_path=chromedriver_path)\n",
    "service.start()\n",
    "\n",
    "driver = webdriver.Chrome(service=service, options=chrome_options)\n",
    "time.sleep(random.uniform(3, 6))\n",
    "driver.get('https://www.tinder.com/')\n",
    "print(\"My Chat Site loaded\")\n",
    "driver.execute_script(\"document.body.style.zoom='25%'\")\n",
    "# Wait for 2 seconds to allow the website to load\n",
    "time.sleep(2)\n",
    "wait = WebDriverWait(driver, 120) \n",
    "#element = wait.until(EC.presence_of_element_located((By.ID, 'q735246158')))\n",
    "\n",
    "print(\"Waiting for user to log in.\")\n",
    "time.sleep(60)  # 60 seconds, change it to the time you need\n",
    "\n",
    "print(\"Waiting for 'Matches' button to appear.\")\n",
    "wait = WebDriverWait(driver, 30)\n",
    "matches_button = wait.until(EC.element_to_be_clickable((By.ID, \"q-518764942\")))\n",
    "\n",
    "# Optional: Wait for any obstructing elements to disappear\n",
    "# Replace 'obstructing_element_selector' with the actual selector\n",
    "# wait.until(EC.invisibility_of_element((By.CSS_SELECTOR, \"obstructing_element_selector\")))\n",
    "\n",
    "try:\n",
    "    print(\"Clicking the 'Matches' button.\")\n",
    "    matches_button.click()\n",
    "    print(\"'Matches' button clicked.\")\n",
    "except Exception as e:\n",
    "    print(\"Failed to click 'Matches' button. Trying JavaScript click.\")\n",
    "    driver.execute_script(\"arguments[0].click();\", matches_button)\n",
    "    print(\"'Matches' button clicked using JavaScript.\")"
   ]
  },
  {
   "cell_type": "code",
   "execution_count": null,
   "id": "f852ec7d",
   "metadata": {},
   "outputs": [],
   "source": [
    "gwegwg = tU4mxt0vs@6sEaA"
   ]
  },
  {
   "cell_type": "markdown",
   "id": "b870e4d2",
   "metadata": {},
   "source": [
    "## There's two types at play\n",
    "* Messages\n",
    "* Matches\n"
   ]
  },
  {
   "cell_type": "markdown",
   "id": "658ee765",
   "metadata": {},
   "source": [
    "### Matches"
   ]
  }
 ],
 "metadata": {
  "kernelspec": {
   "display_name": "Python 3 (ipykernel)",
   "language": "python",
   "name": "python3"
  },
  "language_info": {
   "codemirror_mode": {
    "name": "ipython",
    "version": 3
   },
   "file_extension": ".py",
   "mimetype": "text/x-python",
   "name": "python",
   "nbconvert_exporter": "python",
   "pygments_lexer": "ipython3",
   "version": "3.11.4"
  }
 },
 "nbformat": 4,
 "nbformat_minor": 5
}
